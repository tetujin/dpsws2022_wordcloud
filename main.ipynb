{
 "cells": [
  {
   "cell_type": "code",
   "execution_count": 1,
   "metadata": {},
   "outputs": [],
   "source": [
    "import glob\n",
    "\n",
    "import pandas as pd\n",
    "\n",
    "from wordcloud import WordCloud\n",
    "from janome.tokenizer import Tokenizer\n",
    "from janome.analyzer import Analyzer\n",
    "from janome.tokenfilter import CompoundNounFilter\n"
   ]
  },
  {
   "cell_type": "code",
   "execution_count": 2,
   "metadata": {},
   "outputs": [],
   "source": [
    "'''\n",
    "タイトルのワードクラウド\n",
    "'''\n",
    "\n",
    "df = pd.read_excel('session_name/sessions.xlsx')\n",
    "df_2000 = df[df['year']<2010]\n",
    "df_2010 = df[(df['year'] >=2010) & (df['year']<2020)]\n",
    "df_2020 = df[(df['year'] >=2020) & (df['year']<2030)]\n",
    "\n",
    "wc = WordCloud(width=320, height=480, background_color=\"white\",\n",
    "            #    stopwords={\"もの\",\"これ\",\"ため\",\"それ\",\"ところ\",\"よう\"},\n",
    "               font_path=\"/System/Library/Fonts/ヒラギノ角ゴシック W6.ttc\")\n",
    "for dataframe, filename in zip([df_2000, df_2010, df_2020], ['2000','2010','2020']):\n",
    "    wc.generate(\" \".join(dataframe['session_name'].values.tolist()))\n",
    "    wc.to_file('output/'+filename+'_session_name.png')"
   ]
  },
  {
   "cell_type": "code",
   "execution_count": 12,
   "metadata": {},
   "outputs": [],
   "source": [
    "li = []\n",
    "for filename in glob.glob('paper_title/*.tsv'):\n",
    "    df = pd.read_csv(filename, header=None, delimiter=\"\\t\")\n",
    "    df['year'] = int(filename.split('/')[1].split('.')[0])\n",
    "    li.append(df)\n",
    "\n",
    "df = pd.concat(li, axis=0, ignore_index=True)\n",
    "df = df.rename(columns={0:'id',1:'title'})\n",
    "\n",
    "df_1990 = df[df['year']<2000]\n",
    "df_2000 = df[(df['year'] >=2000) & df['year']<2010]\n",
    "df_2010 = df[(df['year'] >=2010) & (df['year']<2020)]\n",
    "df_2020 = df[(df['year'] >=2020) & (df['year']<2030)]\n",
    "\n",
    "\n",
    "\n",
    "tokenizer    = Tokenizer('user_dictionary.csv', udic_type=\"simpledic\", udic_enc=\"utf8\")\n",
    "token_filter = [CompoundNounFilter()]\n",
    "analyzer     = Analyzer(tokenizer=tokenizer, token_filters=token_filter)\n",
    "\n",
    "for df_sub, y in zip([df_1990,df_2000,df_2010,df_2020],[1990,2000,2010,2020]):\n",
    "    \n",
    "    sent = \"\"\n",
    "\n",
    "    for title in df_sub.title.values.tolist():\n",
    "        ## 日本語の場合のみ処理\n",
    "        if (title[0].isascii() == False and title[len(title)-1].isascii()==False):\n",
    "            for token in analyzer.analyze(title):\n",
    "                if token.part_of_speech.split(',')[0] in [\"名詞\",'カスタム名詞']:\n",
    "                    # print(token)\n",
    "                    sent += token.surface + \" \" # 表層形\n",
    "\n",
    "    wc = WordCloud(width= 320, height=480, \n",
    "                background_color=\"white\",\n",
    "                # colormap='tab20',\n",
    "                contour_color='black',\n",
    "                contour_width=3,\n",
    "                stopwords={\n",
    "                \"ため\",'こと',\"検討\",'手法','型','対象','提案','考慮',\n",
    "                '分析','実現','性能評価','評価','実装','利用','方式','化','開発','応用','構築','機能',\n",
    "                '的','性','法','他','場','一',\n",
    "                '可能','設計','研究','一考察','考察','一検討','ー検討','一実装','検証','活用','調査',\n",
    "                '目的','着目','向上','影響','改良','試作','適用','改善','導入',\n",
    "                '招待講演:','招待講演','招聘講演','テーブルディスカッション','パネルディスカッション','特別企画','若手研究者',\n",
    "                'for','of','based','A','System','in','on','and','object'},\n",
    "                font_path=\"/System/Library/Fonts/ヒラギノ角ゴシック W6.ttc\")\n",
    "    wc.generate(sent)\n",
    "    wc.to_file('output/title_'+str(y)+'.png')\n",
    "\n"
   ]
  }
 ],
 "metadata": {
  "kernelspec": {
   "display_name": "Python 3.9.13 ('base')",
   "language": "python",
   "name": "python3"
  },
  "language_info": {
   "codemirror_mode": {
    "name": "ipython",
    "version": 3
   },
   "file_extension": ".py",
   "mimetype": "text/x-python",
   "name": "python",
   "nbconvert_exporter": "python",
   "pygments_lexer": "ipython3",
   "version": "3.9.13"
  },
  "orig_nbformat": 4,
  "vscode": {
   "interpreter": {
    "hash": "c6e4e9f98eb68ad3b7c296f83d20e6de614cb42e90992a65aa266555a3137d0d"
   }
  }
 },
 "nbformat": 4,
 "nbformat_minor": 2
}
